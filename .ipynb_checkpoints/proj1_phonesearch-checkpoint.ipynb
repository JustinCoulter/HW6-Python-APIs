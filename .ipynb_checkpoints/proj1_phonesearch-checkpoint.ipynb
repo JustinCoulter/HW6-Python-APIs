{
 "cells": [
  {
   "cell_type": "code",
   "execution_count": null,
   "metadata": {},
   "outputs": [],
   "source": [
    "import json\n",
    "import requests\n",
    "import pprint \n",
    "import pandas as pd"
   ]
  },
  {
   "cell_type": "code",
   "execution_count": null,
   "metadata": {},
   "outputs": [],
   "source": [
    "phone = \"\"\n",
    "\n",
    "\n",
    "api_key = \"\"\n",
    "\n",
    "url = 'https://api.yelp.com/v3/businesses/search/phone'\n",
    "\n",
    "headers = {\n",
    "       'Authorization': 'Bearer {}'.format(api_key),\n",
    "   }\n",
    "\n",
    "\n",
    "url_params = { \n",
    "                'phone' : '+1' + phone,\n",
    "   \n",
    "           }\n",
    "response = requests.get(url, headers=headers, params=url_params)\n",
    "print(response.url)\n",
    "print(json.dumps(response.json(), indent=4, sort_keys=True))"
   ]
  }
 ],
 "metadata": {
  "kernelspec": {
   "display_name": "Python 3",
   "language": "python",
   "name": "python3"
  },
  "language_info": {
   "codemirror_mode": {
    "name": "ipython",
    "version": 3
   },
   "file_extension": ".py",
   "mimetype": "text/x-python",
   "name": "python",
   "nbconvert_exporter": "python",
   "pygments_lexer": "ipython3",
   "version": "3.6.7"
  }
 },
 "nbformat": 4,
 "nbformat_minor": 2
}
